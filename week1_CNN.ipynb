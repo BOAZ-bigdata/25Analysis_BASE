{
  "cells": [
    {
      "cell_type": "code",
      "execution_count": 1,
      "metadata": {
        "id": "gaXvKTIYi6r6"
      },
      "outputs": [],
      "source": [
        "# 그럼 첫번째 레슨 : 라이브러리 불러오기\n",
        "\n",
        "#필요한 딥러닝 관련 라이브러리를 불러옵니다.\n",
        "\n",
        "import tensorflow as tf\n",
        "from tensorflow.keras import datasets, layers, models\n",
        "import matplotlib.pyplot as plt"
      ]
    },
    {
      "cell_type": "code",
      "execution_count": 2,
      "metadata": {
        "colab": {
          "base_uri": "https://localhost:8080/"
        },
        "id": "JQ4PgaVJjDaZ",
        "outputId": "32c40669-8e97-4160-c8a0-f5821aa8d468"
      },
      "outputs": [
        {
          "output_type": "stream",
          "name": "stdout",
          "text": [
            "Downloading data from https://www.cs.toronto.edu/~kriz/cifar-10-python.tar.gz\n",
            "\u001b[1m170498071/170498071\u001b[0m \u001b[32m━━━━━━━━━━━━━━━━━━━━\u001b[0m\u001b[37m\u001b[0m \u001b[1m13s\u001b[0m 0us/step\n"
          ]
        }
      ],
      "source": [
        "# 🗂️ Step 2: 데이터 불러오기\n",
        "\n",
        "#CIFAR-10 데이터셋을 불러오고, 학습용/테스트용으로 분리합니다.\n",
        "\n",
        "(train_images, train_labels), (test_images, test_labels) = datasets.cifar10.load_data()\n"
      ]
    },
    {
      "cell_type": "markdown",
      "metadata": {
        "id": "OsmONjH_P63Y"
      },
      "source": [
        "## 과제1. 데이터의 구조를 살펴보세요. 사이즈는?"
      ]
    },
    {
      "cell_type": "code",
      "execution_count": 3,
      "metadata": {
        "colab": {
          "base_uri": "https://localhost:8080/"
        },
        "id": "iVql7ubJP63a",
        "outputId": "56d2f21e-83c0-4ac8-edd8-b933f57a371e"
      },
      "outputs": [
        {
          "output_type": "stream",
          "name": "stdout",
          "text": [
            "Shape of train_images: (50000, 32, 32, 3)\n",
            "Shape of train_labels: (50000, 1)\n",
            "Shape of test_images: (10000, 32, 32, 3)\n",
            "Shape of test_labels: (10000, 1)\n"
          ]
        }
      ],
      "source": [
        "# 여기에서 확인해 보세요.\n",
        "print(\"Shape of train_images:\", train_images.shape)\n",
        "print(\"Shape of train_labels:\", train_labels.shape)\n",
        "print(\"Shape of test_images:\", test_images.shape)\n",
        "print(\"Shape of test_labels:\", test_labels.shape)"
      ]
    },
    {
      "cell_type": "code",
      "execution_count": 4,
      "metadata": {
        "id": "SvdfBtPFjLhm"
      },
      "outputs": [],
      "source": [
        "# 🏷️ Step 3: 클래스 이름 정의\n",
        "\n",
        "#CIFAR-10의 라벨은 숫자로 되어 있으므로, 사람이 이해할 수 있도록 이름을 부여합니다.\n",
        "class_names = ['airplane', 'automobile', 'bird', 'cat', 'deer',\n",
        "               'dog', 'frog', 'horse', 'ship', 'truck']"
      ]
    },
    {
      "cell_type": "markdown",
      "metadata": {
        "id": "I9Ff6UIOP63b"
      },
      "source": [
        "## 과제2. 아래 코드의 빈칸을 채워 CNN 모델을 완성해보세요.\n",
        "#### layer나 패딩 혹은 drop out, batch normalization을 추가해 가며 모델의 정확도 변화를 보는 것도 좋습니다."
      ]
    },
    {
      "cell_type": "code",
      "execution_count": 5,
      "metadata": {
        "id": "b6KfEI2ljboP",
        "colab": {
          "base_uri": "https://localhost:8080/"
        },
        "outputId": "e2b3448f-de9d-4d53-8292-289f6806f3b5"
      },
      "outputs": [
        {
          "output_type": "stream",
          "name": "stderr",
          "text": [
            "/usr/local/lib/python3.11/dist-packages/keras/src/layers/convolutional/base_conv.py:107: UserWarning: Do not pass an `input_shape`/`input_dim` argument to a layer. When using Sequential models, prefer using an `Input(shape)` object as the first layer in the model instead.\n",
            "  super().__init__(activity_regularizer=activity_regularizer, **kwargs)\n"
          ]
        }
      ],
      "source": [
        "# 🧱 Step 4: CNN 모델 구성\n",
        "# Convolution → MaxPooling → Flatten → Dense 구조로 CNN을 설계합니다.\n",
        "# 아래의 빈칸 (___)을 채워 모델을 완성해보세요.\n",
        "\n",
        "model = models.Sequential()\n",
        "\n",
        "# 첫 번째 합성곱 레이어 : 32 filters / kernel size 3x3\n",
        "model.add(layers.Conv2D(32, (3, 3), activation='relu', input_shape=(32, 32, 3)))  # TODO: 커널 개수 설정\n",
        "\n",
        "# 첫 번째 풀링 레이어 : 2x2 pooling\n",
        "model.add(layers.MaxPooling2D((2, 2)))  # TODO: 풀링 크기 설정\n",
        "\n",
        "# 두 번째 합성곱 레이어 : 64 filters / kernel size 3x3\n",
        "model.add(layers.Conv2D(64, (3, 3), activation='relu'))  # TODO: 커널 크기 설정\n",
        "\n",
        "# 두 번째 풀링 레이어\n",
        "model.add(layers.MaxPooling2D((2, 2)))\n",
        "\n",
        "# 세 번째 합성곱 레이어 : 64 filters / kernel size 3x3\n",
        "model.add(layers.Conv2D(64, (3, 3), activation='relu'))  # TODO: 커널 개수 설정\n",
        "\n",
        "# Flatten + Fully Connected Layer\n",
        "model.add(layers.Flatten())\n",
        "model.add(layers.Dense(64, activation='relu'))  # TODO: 은닉층 유닛 수 설정\n",
        "model.add(layers.Dense(10, activation='softmax'))  # 출력층: CIFAR-10은 클래스가 10개"
      ]
    },
    {
      "cell_type": "markdown",
      "metadata": {
        "id": "fjuQr-OtP63d"
      },
      "source": [
        "## 자신이 채운 코드를 기반으로 각 레이어별 Feature Map 크기를 계산해 보세요.\n",
        "(padding은 디폴트로 없습니다.)"
      ]
    },
    {
      "cell_type": "markdown",
      "metadata": {
        "id": "tCDP6gjeP63e"
      },
      "source": [
        "Answer:"
      ]
    },
    {
      "cell_type": "markdown",
      "source": [
        "| Layer                   | 연산 과정            | output size          |\n",
        "| --------------------- | ---------------- | -------------- |\n",
        "| `Conv2D(32, (3,3))`   | 32x32 → 30x30    | `(30, 30, 32)` |\n",
        "| `MaxPooling2D((2,2))` | 30x30 → 15x15    | `(15, 15, 32)` |\n",
        "| `Conv2D(64, (3,3))`   | 15x15 → 13x13    | `(13, 13, 64)` |\n",
        "| `MaxPooling2D((2,2))` | 13x13 → 6x6 (버림) | `(6, 6, 64)`   |\n",
        "| `Conv2D(64, (3,3))`   | 6x6 → 4x4        | `(4, 4, 64)`   |\n",
        "| `Flatten()`           | 4x4x64 = 1024    | `1024`         |\n",
        "| `Dense(64)`           | Fully connected  | `64`           |\n",
        "| `Dense(10)`           | output               | `10 (클래스 수)`   |\n",
        "\n",
        "- 연산 formula recap\n",
        "  - conv2d padding='valid' : output = input - kernel + 1\n",
        "  - maxpooling(2) : output = input / 2 (decimal point는 버림)"
      ],
      "metadata": {
        "id": "k0RFBd3DQDqw"
      }
    },
    {
      "cell_type": "code",
      "execution_count": 6,
      "metadata": {
        "id": "e5GLqIzikILD"
      },
      "outputs": [],
      "source": [
        "# ⚙️ Step 5: 모델 컴파일\n",
        "\n",
        "#모델을 학습할 수 있도록 컴파일합니다. 손실 함수, 최적화 방법, 평가지표를 설정합니다.\n",
        "\n",
        "model.compile(optimizer='adam',\n",
        "              loss=tf.keras.losses.SparseCategoricalCrossentropy(from_logits=True),\n",
        "              metrics=['accuracy'])"
      ]
    },
    {
      "cell_type": "code",
      "execution_count": 7,
      "metadata": {
        "colab": {
          "base_uri": "https://localhost:8080/",
          "height": 897
        },
        "id": "RKTS9MxZP63f",
        "outputId": "30396241-52a9-4bdb-d572-1ed4fb07618c"
      },
      "outputs": [
        {
          "output_type": "stream",
          "name": "stdout",
          "text": [
            "Epoch 1/10\n"
          ]
        },
        {
          "output_type": "stream",
          "name": "stderr",
          "text": [
            "/usr/local/lib/python3.11/dist-packages/keras/src/backend/tensorflow/nn.py:708: UserWarning: \"`sparse_categorical_crossentropy` received `from_logits=True`, but the `output` argument was produced by a Softmax activation and thus does not represent logits. Was this intended?\n",
            "  output, from_logits = _get_logits(\n"
          ]
        },
        {
          "output_type": "stream",
          "name": "stdout",
          "text": [
            "\u001b[1m1563/1563\u001b[0m \u001b[32m━━━━━━━━━━━━━━━━━━━━\u001b[0m\u001b[37m\u001b[0m \u001b[1m13s\u001b[0m 5ms/step - accuracy: 0.3056 - loss: 2.3469 - val_accuracy: 0.4748 - val_loss: 1.4461\n",
            "Epoch 2/10\n",
            "\u001b[1m1563/1563\u001b[0m \u001b[32m━━━━━━━━━━━━━━━━━━━━\u001b[0m\u001b[37m\u001b[0m \u001b[1m5s\u001b[0m 3ms/step - accuracy: 0.5162 - loss: 1.3533 - val_accuracy: 0.5445 - val_loss: 1.3102\n",
            "Epoch 3/10\n",
            "\u001b[1m1563/1563\u001b[0m \u001b[32m━━━━━━━━━━━━━━━━━━━━\u001b[0m\u001b[37m\u001b[0m \u001b[1m6s\u001b[0m 4ms/step - accuracy: 0.5833 - loss: 1.1808 - val_accuracy: 0.6063 - val_loss: 1.1254\n",
            "Epoch 4/10\n",
            "\u001b[1m1563/1563\u001b[0m \u001b[32m━━━━━━━━━━━━━━━━━━━━\u001b[0m\u001b[37m\u001b[0m \u001b[1m11s\u001b[0m 4ms/step - accuracy: 0.6158 - loss: 1.0827 - val_accuracy: 0.6098 - val_loss: 1.1238\n",
            "Epoch 5/10\n",
            "\u001b[1m1563/1563\u001b[0m \u001b[32m━━━━━━━━━━━━━━━━━━━━\u001b[0m\u001b[37m\u001b[0m \u001b[1m6s\u001b[0m 4ms/step - accuracy: 0.6568 - loss: 0.9837 - val_accuracy: 0.6325 - val_loss: 1.0760\n",
            "Epoch 6/10\n",
            "\u001b[1m1563/1563\u001b[0m \u001b[32m━━━━━━━━━━━━━━━━━━━━\u001b[0m\u001b[37m\u001b[0m \u001b[1m11s\u001b[0m 4ms/step - accuracy: 0.6807 - loss: 0.9082 - val_accuracy: 0.6336 - val_loss: 1.0663\n",
            "Epoch 7/10\n",
            "\u001b[1m1563/1563\u001b[0m \u001b[32m━━━━━━━━━━━━━━━━━━━━\u001b[0m\u001b[37m\u001b[0m \u001b[1m7s\u001b[0m 4ms/step - accuracy: 0.7000 - loss: 0.8517 - val_accuracy: 0.6613 - val_loss: 0.9972\n",
            "Epoch 8/10\n",
            "\u001b[1m1563/1563\u001b[0m \u001b[32m━━━━━━━━━━━━━━━━━━━━\u001b[0m\u001b[37m\u001b[0m \u001b[1m6s\u001b[0m 4ms/step - accuracy: 0.7258 - loss: 0.7817 - val_accuracy: 0.6475 - val_loss: 1.0732\n",
            "Epoch 9/10\n",
            "\u001b[1m1563/1563\u001b[0m \u001b[32m━━━━━━━━━━━━━━━━━━━━\u001b[0m\u001b[37m\u001b[0m \u001b[1m7s\u001b[0m 4ms/step - accuracy: 0.7420 - loss: 0.7375 - val_accuracy: 0.6597 - val_loss: 1.0455\n",
            "Epoch 10/10\n",
            "\u001b[1m1563/1563\u001b[0m \u001b[32m━━━━━━━━━━━━━━━━━━━━\u001b[0m\u001b[37m\u001b[0m \u001b[1m10s\u001b[0m 4ms/step - accuracy: 0.7614 - loss: 0.6849 - val_accuracy: 0.6558 - val_loss: 1.0591\n",
            "313/313 - 1s - 2ms/step - accuracy: 0.6558 - loss: 1.0591\n"
          ]
        },
        {
          "output_type": "display_data",
          "data": {
            "text/plain": [
              "<Figure size 640x480 with 1 Axes>"
            ],
            "image/png": "[encoded data removed]"
          },
          "metadata": {}
        }
      ],
      "source": [
        "# 🔥 Step 6: 모델 학습 및 성능 평가\n",
        "\n",
        "history = model.fit(train_images, train_labels, epochs=10,\n",
        "                    validation_data=(test_images, test_labels))\n",
        "#모델 성능 평가\n",
        "plt.plot(history.history['accuracy'],label='accuracy')\n",
        "plt.plot(history.history['val_accuracy'],label = 'val_accuracy')\n",
        "plt.xlabel('Epoch')\n",
        "plt.ylabel('Accuracy')\n",
        "plt.ylim([0.5, 1])\n",
        "plt.legend(loc='lower right')\n",
        "\n",
        "test_loss, test_acc = model.evaluate(test_images,\n",
        "                                     test_labels,\n",
        "                                     verbose=2)\n"
      ]
    },
    {
      "cell_type": "code",
      "execution_count": 8,
      "metadata": {
        "colab": {
          "base_uri": "https://localhost:8080/"
        },
        "id": "Cc2Uh7qqlGAi",
        "outputId": "efdcbba0-a01a-4602-bdc0-f27e4e972833"
      },
      "outputs": [
        {
          "output_type": "stream",
          "name": "stdout",
          "text": [
            "Test Accuracy is 0.6557999849319458\n"
          ]
        }
      ],
      "source": [
        "print('Test Accuracy is',test_acc)"
      ]
    },
    {
      "cell_type": "markdown",
      "metadata": {
        "id": "Z1y-pbdxP63g"
      },
      "source": [
        "## 과제3. 직접사용해 보기. 이미지를 로드하고 cifar-10의 사이즈로 리사이즈"
      ]
    },
    {
      "cell_type": "code",
      "execution_count": 13,
      "metadata": {
        "id": "Ka8GtI6ElKA2",
        "colab": {
          "base_uri": "https://localhost:8080/",
          "height": 446
        },
        "outputId": "1d57c122-5a8b-4682-e69b-b67a311a9bf2"
      },
      "outputs": [
        {
          "output_type": "stream",
          "name": "stdout",
          "text": [
            "\u001b[1m1/1\u001b[0m \u001b[32m━━━━━━━━━━━━━━━━━━━━\u001b[0m\u001b[37m\u001b[0m \u001b[1m0s\u001b[0m 29ms/step\n"
          ]
        },
        {
          "output_type": "display_data",
          "data": {
            "text/plain": [
              "<Figure size 640x480 with 1 Axes>"
            ],
            "image/png": "[encoded data removed]"
          },
          "metadata": {}
        }
      ],
      "source": [
        "import numpy as np\n",
        "from tensorflow.keras.preprocessing import image\n",
        "\n",
        "# 새 이미지를 로드하고 모델 예측 수행\n",
        "def predict_new_image(image_path, model, class_names):\n",
        "    # 이미지 로드 및 전처리\n",
        "    img = image.load_img(image_path, target_size=(32, 32))  # CIFAR-10 크기로 리사이즈 빈칸채우기\n",
        "    img_array = image.img_to_array(img)  # 이미지를 배열로 변환\n",
        "    img_array = np.expand_dims(img_array, axis=0)  # 배치를 위해 차원 추가\n",
        "    img_array = img_array / 255.0  # 정규화\n",
        "\n",
        "    # 예측 수행\n",
        "    predictions = model.predict(img_array)\n",
        "    predicted_class = np.argmax(predictions)  # 가장 높은 확률의 클래스 인덱스\n",
        "    class_name = class_names[predicted_class]  # 클래스 이름\n",
        "\n",
        "    # 결과 출력\n",
        "    plt.imshow(img)\n",
        "    plt.title(f\"Predicted: {class_name}\")\n",
        "    plt.axis('off')\n",
        "    plt.show()\n",
        "\n",
        "# 사용 예시\n",
        "image_path = \"/content/img1.jpeg\" # 예측할 이미지의 경로 절대경로를 입력하면 됩니다. 뭔가 자신의 얼굴사진을 넣어보면 재미있는일이...\n",
        "predict_new_image(image_path, model, class_names)\n"
      ]
    },
    {
      "cell_type": "markdown",
      "metadata": {
        "id": "JZMAHi4HP63g"
      },
      "source": [
        "## 왜 255.0으로 나누었을까요? 이미지 전처리에 대한 지식이니 조사해보세요."
      ]
    },
    {
      "cell_type": "markdown",
      "metadata": {
        "id": "OtYlfXG0P63h"
      },
      "source": [
        "Answer: 디지털 이미지는 pixel값이 0-255 범위인 정수값으로 저장되는데, 이는 uint8 형식이기 때문에 정수 연산에는 적합하지만 신경망 학습에는 적절하지 않다는 문제점이 있다. 딥러닝 모델은 내부적으로 floating point arithmetic을 진행하며, ReLU나 Sigmoid와 같은 대부분의 활성화 함수는 작은 실수 범위의 입력값에서 잘 작동한다는 특징이 있다. 이 때문에 픽셀값은 0-255범위에서 0-1로 스케일을 normalization(정규화) 하는 것이고 이는 일반적으로 image/255.0 과 같은 연산을 통해 수행된다. ImageNet 등 대규모 데이터셋 기반 사전학습 모델과의 호환성을 위해서도 일반적으로 적용되는 전처리 과정이라고 한다."
      ]
    },
    {
      "cell_type": "markdown",
      "metadata": {
        "id": "wpnnUaFsP63h"
      },
      "source": [
        "## 과제4. CNN의 inductive bias에 대해서 조사를 해보고 생각해 봅시다.\n",
        "### CNN은 왜 이미지 처리에 좋을까요? 이미지 말고도 CNN을 잘 쓸 수 있는데는 어디일까요?"
      ]
    },
    {
      "cell_type": "markdown",
      "metadata": {
        "id": "JfktDrhoP63h"
      },
      "source": [
        "Answer: Inductive bias란 학습되지 않은 상황에 대해 정확한 예측을 하기 위해서 사용하는 추가적인 가정을 의미한다. 모든 머신러닝 알고리즘은 train 데이터 이외의 다른 데이터에 대해서도 일반화할 수 있는 능력을 가졌고, 여기서 모델이 목표 함수를 학습하고 train 데이터를 넘어 일반화하기 위해 만든 가정인 inductive bias가 존재하는 것이다.\n",
        "CNN에서의 대표적인 indeuctive bias로는 local connectivity(일부 영역만 처리), weight sharing(같은 필터가 이미지 전체를 공통된 방식으로 스캔) 등이 존재하며, 이러한 bias 덕분에 CNN은 매우 적은 parameter로도 복잡한 이미지 패턴을 잘 학습할 수 있게 된다."
      ]
    },
    {
      "cell_type": "markdown",
      "source": [
        "- CNN이 이미지 처리에 좋은 이유?\n",
        "  - 이미지에서 중요한 특성 중 하나는 바로 공간 지역성(locality)이고, 이는 위치에 상관없이 반복된다. 이 점에서 CNN의 로컬 필터 구조와 weight sharing은 이러한 특성을 정확하게 반영하기 때문에 적합하다고 볼 수 있다. ex) 고양이 눈, 자동차의 바퀴, 신호등 색깔 은 위치와 상관없이 패턴이 반복됨\n",
        "- CNN이 이미지 외에 사용되는 다른 분야\n",
        "  - NLP(1D conv로 특성 추출), 시계열 데이터 분석 (conv1d로 국소 패턴 분석), 자율 주행(카메라 이미지, 신호 처리 등), 오디오 분석(spectrogram 등 2D 이미지 형태로 변환)"
      ],
      "metadata": {
        "id": "snMSRSIeXz-l"
      }
    }
  ],
  "metadata": {
    "accelerator": "GPU",
    "colab": {
      "gpuType": "T4",
      "provenance": []
    },
    "kernelspec": {
      "display_name": "Python 3",
      "name": "python3"
    },
    "language_info": {
      "codemirror_mode": {
        "name": "ipython",
        "version": 3
      },
      "file_extension": ".py",
      "mimetype": "text/x-python",
      "name": "python",
      "nbconvert_exporter": "python",
      "pygments_lexer": "ipython3",
      "version": "3.11.13"
    }
  },
  "nbformat": 4,
  "nbformat_minor": 0
}